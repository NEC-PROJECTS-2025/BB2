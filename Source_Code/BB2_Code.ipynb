{
 "cells": [
  {
   "cell_type": "code",
   "execution_count": 7,
   "id": "22667376-f97d-4512-9309-7fe1a0af1c6b",
   "metadata": {},
   "outputs": [
    {
     "name": "stdout",
     "output_type": "stream",
     "text": [
      "Unzipping completed.\n"
     ]
    }
   ],
   "source": [
    "import zipfile\n",
    "\n",
    "# Specify the file name and path of the zip file\n",
    "zip_file_path = 'Gammatonegram.zip'\n",
    "\n",
    "# Specify the path where you want to extract the contents\n",
    "extract_to_path = 'Gammatonegram_images/'\n",
    "\n",
    "# Open the zip file and extract its contents\n",
    "with zipfile.ZipFile(zip_file_path, 'r') as zip_ref:\n",
    "    zip_ref.extractall(extract_to_path)\n",
    "\n",
    "print(\"Unzipping completed.\")\n"
   ]
  },
  {
   "cell_type": "code",
   "execution_count": null,
   "id": "7c66ba49-369e-4809-a588-59c3d6aa4fe6",
   "metadata": {},
   "outputs": [],
   "source": []
  },
  {
   "cell_type": "code",
   "execution_count": 6,
   "id": "9b085b35-db65-4d10-9b03-4ec9c6cc7d8d",
   "metadata": {},
   "outputs": [
    {
     "name": "stdout",
     "output_type": "stream",
     "text": [
      "Requirement already satisfied: tensorflow in c:\\users\\dell\\anaconda3\\lib\\site-packages (2.18.0)\n",
      "Requirement already satisfied: tensorflow-intel==2.18.0 in c:\\users\\dell\\anaconda3\\lib\\site-packages (from tensorflow) (2.18.0)\n",
      "Requirement already satisfied: absl-py>=1.0.0 in c:\\users\\dell\\anaconda3\\lib\\site-packages (from tensorflow-intel==2.18.0->tensorflow) (2.1.0)\n",
      "Requirement already satisfied: astunparse>=1.6.0 in c:\\users\\dell\\anaconda3\\lib\\site-packages (from tensorflow-intel==2.18.0->tensorflow) (1.6.3)\n",
      "Requirement already satisfied: flatbuffers>=24.3.25 in c:\\users\\dell\\anaconda3\\lib\\site-packages (from tensorflow-intel==2.18.0->tensorflow) (25.2.10)\n",
      "Requirement already satisfied: gast!=0.5.0,!=0.5.1,!=0.5.2,>=0.2.1 in c:\\users\\dell\\anaconda3\\lib\\site-packages (from tensorflow-intel==2.18.0->tensorflow) (0.6.0)\n",
      "Requirement already satisfied: google-pasta>=0.1.1 in c:\\users\\dell\\anaconda3\\lib\\site-packages (from tensorflow-intel==2.18.0->tensorflow) (0.2.0)\n",
      "Requirement already satisfied: libclang>=13.0.0 in c:\\users\\dell\\anaconda3\\lib\\site-packages (from tensorflow-intel==2.18.0->tensorflow) (18.1.1)\n",
      "Requirement already satisfied: opt-einsum>=2.3.2 in c:\\users\\dell\\anaconda3\\lib\\site-packages (from tensorflow-intel==2.18.0->tensorflow) (3.4.0)\n",
      "Requirement already satisfied: packaging in c:\\users\\dell\\anaconda3\\lib\\site-packages (from tensorflow-intel==2.18.0->tensorflow) (24.1)\n",
      "Requirement already satisfied: protobuf!=4.21.0,!=4.21.1,!=4.21.2,!=4.21.3,!=4.21.4,!=4.21.5,<6.0.0dev,>=3.20.3 in c:\\users\\dell\\anaconda3\\lib\\site-packages (from tensorflow-intel==2.18.0->tensorflow) (4.25.3)\n",
      "Requirement already satisfied: requests<3,>=2.21.0 in c:\\users\\dell\\anaconda3\\lib\\site-packages (from tensorflow-intel==2.18.0->tensorflow) (2.32.3)\n",
      "Requirement already satisfied: setuptools in c:\\users\\dell\\anaconda3\\lib\\site-packages (from tensorflow-intel==2.18.0->tensorflow) (75.1.0)\n",
      "Requirement already satisfied: six>=1.12.0 in c:\\users\\dell\\anaconda3\\lib\\site-packages (from tensorflow-intel==2.18.0->tensorflow) (1.16.0)\n",
      "Requirement already satisfied: termcolor>=1.1.0 in c:\\users\\dell\\anaconda3\\lib\\site-packages (from tensorflow-intel==2.18.0->tensorflow) (2.5.0)\n",
      "Requirement already satisfied: typing-extensions>=3.6.6 in c:\\users\\dell\\anaconda3\\lib\\site-packages (from tensorflow-intel==2.18.0->tensorflow) (4.11.0)\n",
      "Requirement already satisfied: wrapt>=1.11.0 in c:\\users\\dell\\anaconda3\\lib\\site-packages (from tensorflow-intel==2.18.0->tensorflow) (1.14.1)\n",
      "Requirement already satisfied: grpcio<2.0,>=1.24.3 in c:\\users\\dell\\anaconda3\\lib\\site-packages (from tensorflow-intel==2.18.0->tensorflow) (1.71.0)\n",
      "Requirement already satisfied: tensorboard<2.19,>=2.18 in c:\\users\\dell\\anaconda3\\lib\\site-packages (from tensorflow-intel==2.18.0->tensorflow) (2.18.0)\n",
      "Requirement already satisfied: keras>=3.5.0 in c:\\users\\dell\\anaconda3\\lib\\site-packages (from tensorflow-intel==2.18.0->tensorflow) (3.9.0)\n",
      "Requirement already satisfied: numpy<2.1.0,>=1.26.0 in c:\\users\\dell\\anaconda3\\lib\\site-packages (from tensorflow-intel==2.18.0->tensorflow) (1.26.4)\n",
      "Requirement already satisfied: h5py>=3.11.0 in c:\\users\\dell\\anaconda3\\lib\\site-packages (from tensorflow-intel==2.18.0->tensorflow) (3.11.0)\n",
      "Requirement already satisfied: ml-dtypes<0.5.0,>=0.4.0 in c:\\users\\dell\\anaconda3\\lib\\site-packages (from tensorflow-intel==2.18.0->tensorflow) (0.4.1)\n",
      "Requirement already satisfied: wheel<1.0,>=0.23.0 in c:\\users\\dell\\anaconda3\\lib\\site-packages (from astunparse>=1.6.0->tensorflow-intel==2.18.0->tensorflow) (0.44.0)\n",
      "Requirement already satisfied: rich in c:\\users\\dell\\anaconda3\\lib\\site-packages (from keras>=3.5.0->tensorflow-intel==2.18.0->tensorflow) (13.7.1)\n",
      "Requirement already satisfied: namex in c:\\users\\dell\\anaconda3\\lib\\site-packages (from keras>=3.5.0->tensorflow-intel==2.18.0->tensorflow) (0.0.8)\n",
      "Requirement already satisfied: optree in c:\\users\\dell\\anaconda3\\lib\\site-packages (from keras>=3.5.0->tensorflow-intel==2.18.0->tensorflow) (0.14.1)\n",
      "Requirement already satisfied: charset-normalizer<4,>=2 in c:\\users\\dell\\anaconda3\\lib\\site-packages (from requests<3,>=2.21.0->tensorflow-intel==2.18.0->tensorflow) (3.3.2)\n",
      "Requirement already satisfied: idna<4,>=2.5 in c:\\users\\dell\\anaconda3\\lib\\site-packages (from requests<3,>=2.21.0->tensorflow-intel==2.18.0->tensorflow) (3.7)\n",
      "Requirement already satisfied: urllib3<3,>=1.21.1 in c:\\users\\dell\\anaconda3\\lib\\site-packages (from requests<3,>=2.21.0->tensorflow-intel==2.18.0->tensorflow) (2.2.3)\n",
      "Requirement already satisfied: certifi>=2017.4.17 in c:\\users\\dell\\anaconda3\\lib\\site-packages (from requests<3,>=2.21.0->tensorflow-intel==2.18.0->tensorflow) (2025.1.31)\n",
      "Requirement already satisfied: markdown>=2.6.8 in c:\\users\\dell\\anaconda3\\lib\\site-packages (from tensorboard<2.19,>=2.18->tensorflow-intel==2.18.0->tensorflow) (3.4.1)\n",
      "Requirement already satisfied: tensorboard-data-server<0.8.0,>=0.7.0 in c:\\users\\dell\\anaconda3\\lib\\site-packages (from tensorboard<2.19,>=2.18->tensorflow-intel==2.18.0->tensorflow) (0.7.2)\n",
      "Requirement already satisfied: werkzeug>=1.0.1 in c:\\users\\dell\\anaconda3\\lib\\site-packages (from tensorboard<2.19,>=2.18->tensorflow-intel==2.18.0->tensorflow) (3.0.3)\n",
      "Requirement already satisfied: MarkupSafe>=2.1.1 in c:\\users\\dell\\anaconda3\\lib\\site-packages (from werkzeug>=1.0.1->tensorboard<2.19,>=2.18->tensorflow-intel==2.18.0->tensorflow) (2.1.3)\n",
      "Requirement already satisfied: markdown-it-py>=2.2.0 in c:\\users\\dell\\anaconda3\\lib\\site-packages (from rich->keras>=3.5.0->tensorflow-intel==2.18.0->tensorflow) (2.2.0)\n",
      "Requirement already satisfied: pygments<3.0.0,>=2.13.0 in c:\\users\\dell\\anaconda3\\lib\\site-packages (from rich->keras>=3.5.0->tensorflow-intel==2.18.0->tensorflow) (2.15.1)\n",
      "Requirement already satisfied: mdurl~=0.1 in c:\\users\\dell\\anaconda3\\lib\\site-packages (from markdown-it-py>=2.2.0->rich->keras>=3.5.0->tensorflow-intel==2.18.0->tensorflow) (0.1.0)\n"
     ]
    }
   ],
   "source": [
    "!pip install tensorflow"
   ]
  },
  {
   "cell_type": "code",
   "execution_count": 18,
   "id": "50c75b9d-4308-4f46-a1b4-3828292e1cec",
   "metadata": {},
   "outputs": [
    {
     "ename": "NameError",
     "evalue": "name 'tensorflow' is not defined",
     "output_type": "error",
     "traceback": [
      "\u001b[1;31m---------------------------------------------------------------------------\u001b[0m",
      "\u001b[1;31mNameError\u001b[0m                                 Traceback (most recent call last)",
      "Cell \u001b[1;32mIn[18], line 1\u001b[0m\n\u001b[1;32m----> 1\u001b[0m tensorflow \u001b[38;5;241m-\u001b[39m\u001b[38;5;241m-\u001b[39mversion\n",
      "\u001b[1;31mNameError\u001b[0m: name 'tensorflow' is not defined"
     ]
    }
   ],
   "source": [
    "tensorflow --version"
   ]
  },
  {
   "cell_type": "code",
   "execution_count": 1,
   "id": "7003c824-a747-45ea-bb7b-f9118f9c41c6",
   "metadata": {},
   "outputs": [],
   "source": [
    "import tensorflow as tf\n",
    "from tensorflow.keras.preprocessing.image import ImageDataGenerator\n",
    "from tensorflow.keras.models import Sequential\n",
    "from tensorflow.keras.layers import Conv2D, MaxPooling2D, Flatten, Dense, BatchNormalization, Activation\n",
    "from tensorflow.keras.optimizers import SGD, Adagrad, Adadelta, RMSprop, Adam\n",
    "from sklearn.utils.class_weight import compute_class_weight\n",
    "import numpy as np"
   ]
  },
  {
   "cell_type": "code",
   "execution_count": 3,
   "id": "eed617c4-f1ba-4aad-866c-a8ab49033c54",
   "metadata": {},
   "outputs": [],
   "source": [
    "# Define the data generators with preprocessing steps\n",
    "train_gen = ImageDataGenerator(\n",
    "    rescale=1./255,\n",
    "    horizontal_flip=True\n",
    ")\n",
    "\n",
    "test_gen = ImageDataGenerator(rescale=1./255)"
   ]
  },
  {
   "cell_type": "code",
   "execution_count": 5,
   "id": "4587a675-7305-4eb3-bb1d-fd8801f08aa5",
   "metadata": {},
   "outputs": [
    {
     "name": "stdout",
     "output_type": "stream",
     "text": [
      "Found 3240 images belonging to 2 classes.\n",
      "Found 301 images belonging to 2 classes.\n"
     ]
    }
   ],
   "source": [
    "# Load data\n",
    "train_data = train_gen.flow_from_directory(\n",
    "    'Gammatonegram_images/Gammatone of heart sounds/Gammatone of heart sounds/train',\n",
    "    target_size=(150, 150),\n",
    "    batch_size=32,\n",
    "    class_mode='binary'\n",
    ")\n",
    "\n",
    "test_data = test_gen.flow_from_directory(\n",
    "    'Gammatonegram_images/Gammatone of heart sounds/Gammatone of heart sounds/val',\n",
    "    target_size=(150, 150),\n",
    "    batch_size=32,\n",
    "    class_mode='binary'\n",
    ")\n"
   ]
  },
  {
   "cell_type": "code",
   "execution_count": 7,
   "id": "5109e338-5de3-46f6-ba8f-9d1c1f5453eb",
   "metadata": {},
   "outputs": [
    {
     "data": {
      "text/plain": [
       "{'healthy': 0, 'unhealthy': 1}"
      ]
     },
     "execution_count": 7,
     "metadata": {},
     "output_type": "execute_result"
    }
   ],
   "source": [
    "train_data.class_indices"
   ]
  },
  {
   "cell_type": "code",
   "execution_count": 9,
   "id": "2b447c55-a63f-46f1-aed7-e40b93cfc254",
   "metadata": {},
   "outputs": [
    {
     "name": "stdout",
     "output_type": "stream",
     "text": [
      "{0: 0.629126213592233, 1: 2.43609022556391}\n"
     ]
    }
   ],
   "source": [
    "# Calculate class weights\n",
    "y_train = train_data.classes\n",
    "class_weights = compute_class_weight(class_weight='balanced', classes=np.unique(y_train), y=y_train)\n",
    "class_weights = dict(enumerate(class_weights))\n",
    "print(class_weights)"
   ]
  },
  {
   "cell_type": "code",
   "execution_count": 13,
   "id": "efe6298a-625d-4dde-94c1-e469c06531a3",
   "metadata": {},
   "outputs": [],
   "source": [
    "\n",
    "def create_model():\n",
    "    model = Sequential()\n",
    "\n",
    "\n",
    "    model.add(Conv2D(12, (3, 3), input_shape=(150, 150, 3)))\n",
    "    model.add(BatchNormalization())\n",
    "    model.add(Activation('relu'))\n",
    "    model.add(MaxPooling2D(pool_size=(2, 2)))\n",
    "\n",
    "\n",
    "    model.add(Conv2D(20, (3, 3)))\n",
    "    model.add(BatchNormalization())\n",
    "    model.add(Activation('relu'))\n",
    "    model.add(MaxPooling2D(pool_size=(2, 2)))\n",
    "\n",
    "\n",
    "    model.add(Conv2D(32, (3, 3)))\n",
    "    model.add(BatchNormalization())\n",
    "    model.add(Activation('relu'))\n",
    "    model.add(MaxPooling2D(pool_size=(2, 2)))\n",
    "\n",
    "\n",
    "    model.add(Flatten())\n",
    "\n",
    "\n",
    "    model.add(Dense(128))\n",
    "    model.add(Activation('relu'))\n",
    "    model.add(Dense(64))\n",
    "    model.add(Activation('relu'))\n",
    "\n",
    "\n",
    "    model.add(Dense(2, activation='softmax'))\n",
    "\n",
    "    return model"
   ]
  },
  {
   "cell_type": "code",
   "execution_count": null,
   "id": "704aa76d-dcec-4fe3-b9f8-6cfc2772e63b",
   "metadata": {},
   "outputs": [
    {
     "name": "stdout",
     "output_type": "stream",
     "text": [
      "Training with SGD optimizer\n",
      "Epoch 1/25\n",
      "\u001b[1m102/102\u001b[0m \u001b[32m━━━━━━━━━━━━━━━━━━━━\u001b[0m\u001b[37m\u001b[0m \u001b[1m56s\u001b[0m 530ms/step - accuracy: 0.6382 - loss: 0.6859 - val_accuracy: 0.6113 - val_loss: 0.6747\n",
      "Epoch 2/25\n",
      "\u001b[1m102/102\u001b[0m \u001b[32m━━━━━━━━━━━━━━━━━━━━\u001b[0m\u001b[37m\u001b[0m \u001b[1m0s\u001b[0m 463ms/step - accuracy: 0.7504 - loss: 0.5003"
     ]
    }
   ],
   "source": [
    "def train_model(optimizer, optimizer_name):\n",
    "    model = create_model()\n",
    "    model.compile(optimizer=optimizer, loss='sparse_categorical_crossentropy', metrics=['accuracy'])\n",
    "\n",
    "    history = model.fit(\n",
    "        train_data,\n",
    "        epochs=25,\n",
    "        validation_data=test_data,\n",
    "        class_weight=class_weights\n",
    "    )\n",
    "\n",
    "\n",
    "    loss, accuracy = model.evaluate(test_data)\n",
    "    print(f'Test loss with {optimizer_name}: {loss*100:.4f}')\n",
    "    print(f'Test accuracy with {optimizer_name}: {accuracy*100:.4f}')\n",
    "\n",
    "    highest_val_accuracy = max(history.history['val_accuracy'])\n",
    "    print(f'Highest Validation Accuracy with {optimizer_name}: {highest_val_accuracy * 100:.2f}%')\n",
    "\n",
    "\n",
    "    model.save(f'model_{optimizer_name}.h5')\n",
    "    print(f\"Model saved as model_{optimizer_name}.h5\")\n",
    "\n",
    "    return history\n",
    "\n",
    "optimizers = {\n",
    "    'SGD': SGD(learning_rate=0.001),\n",
    "    'Adagrad': Adagrad(learning_rate=0.01),\n",
    "    'Adadelta': Adadelta(learning_rate=0.01),\n",
    "    'RMSProp': RMSprop(learning_rate=0.001),\n",
    "    'Adam': Adam(learning_rate=0.0001)\n",
    "}\n",
    "\n",
    "histories = {}\n",
    "for opt_name, opt in optimizers.items():\n",
    "    print(f\"Training with {opt_name} optimizer\")\n",
    "    histories[opt_name] = train_model(opt, opt_name)"
   ]
  },
  {
   "cell_type": "code",
   "execution_count": 16,
   "id": "4d54d130-e6f7-4040-8083-bbb828eeb513",
   "metadata": {
    "scrolled": true
   },
   "outputs": [
    {
     "name": "stdout",
     "output_type": "stream",
     "text": [
      "Training with Adam optimizer\n",
      "Epoch 1/25\n",
      "\u001b[1m102/102\u001b[0m \u001b[32m━━━━━━━━━━━━━━━━━━━━\u001b[0m\u001b[37m\u001b[0m \u001b[1m54s\u001b[0m 505ms/step - accuracy: 0.6966 - loss: 0.6010 - val_accuracy: 0.6877 - val_loss: 0.6544\n",
      "Epoch 2/25\n",
      "\u001b[1m102/102\u001b[0m \u001b[32m━━━━━━━━━━━━━━━━━━━━\u001b[0m\u001b[37m\u001b[0m \u001b[1m49s\u001b[0m 478ms/step - accuracy: 0.8274 - loss: 0.3723 - val_accuracy: 0.7276 - val_loss: 0.5801\n",
      "Epoch 3/25\n",
      "\u001b[1m102/102\u001b[0m \u001b[32m━━━━━━━━━━━━━━━━━━━━\u001b[0m\u001b[37m\u001b[0m \u001b[1m45s\u001b[0m 440ms/step - accuracy: 0.8484 - loss: 0.3281 - val_accuracy: 0.6678 - val_loss: 0.6225\n",
      "Epoch 4/25\n",
      "\u001b[1m102/102\u001b[0m \u001b[32m━━━━━━━━━━━━━━━━━━━━\u001b[0m\u001b[37m\u001b[0m \u001b[1m46s\u001b[0m 447ms/step - accuracy: 0.8427 - loss: 0.3399 - val_accuracy: 0.7442 - val_loss: 0.4504\n",
      "Epoch 5/25\n",
      "\u001b[1m102/102\u001b[0m \u001b[32m━━━━━━━━━━━━━━━━━━━━\u001b[0m\u001b[37m\u001b[0m \u001b[1m45s\u001b[0m 436ms/step - accuracy: 0.8689 - loss: 0.2851 - val_accuracy: 0.8073 - val_loss: 0.4140\n",
      "Epoch 6/25\n",
      "\u001b[1m102/102\u001b[0m \u001b[32m━━━━━━━━━━━━━━━━━━━━\u001b[0m\u001b[37m\u001b[0m \u001b[1m45s\u001b[0m 441ms/step - accuracy: 0.8666 - loss: 0.2617 - val_accuracy: 0.8173 - val_loss: 0.3794\n",
      "Epoch 7/25\n",
      "\u001b[1m102/102\u001b[0m \u001b[32m━━━━━━━━━━━━━━━━━━━━\u001b[0m\u001b[37m\u001b[0m \u001b[1m45s\u001b[0m 442ms/step - accuracy: 0.8951 - loss: 0.2426 - val_accuracy: 0.8206 - val_loss: 0.4062\n",
      "Epoch 8/25\n",
      "\u001b[1m102/102\u001b[0m \u001b[32m━━━━━━━━━━━━━━━━━━━━\u001b[0m\u001b[37m\u001b[0m \u001b[1m47s\u001b[0m 456ms/step - accuracy: 0.8689 - loss: 0.2588 - val_accuracy: 0.8306 - val_loss: 0.3885\n",
      "Epoch 9/25\n",
      "\u001b[1m102/102\u001b[0m \u001b[32m━━━━━━━━━━━━━━━━━━━━\u001b[0m\u001b[37m\u001b[0m \u001b[1m44s\u001b[0m 435ms/step - accuracy: 0.8923 - loss: 0.2159 - val_accuracy: 0.8405 - val_loss: 0.3367\n",
      "Epoch 10/25\n",
      "\u001b[1m102/102\u001b[0m \u001b[32m━━━━━━━━━━━━━━━━━━━━\u001b[0m\u001b[37m\u001b[0m \u001b[1m45s\u001b[0m 440ms/step - accuracy: 0.9117 - loss: 0.2008 - val_accuracy: 0.8007 - val_loss: 0.5157\n",
      "Epoch 11/25\n",
      "\u001b[1m102/102\u001b[0m \u001b[32m━━━━━━━━━━━━━━━━━━━━\u001b[0m\u001b[37m\u001b[0m \u001b[1m45s\u001b[0m 440ms/step - accuracy: 0.9038 - loss: 0.1978 - val_accuracy: 0.8804 - val_loss: 0.2823\n",
      "Epoch 12/25\n",
      "\u001b[1m102/102\u001b[0m \u001b[32m━━━━━━━━━━━━━━━━━━━━\u001b[0m\u001b[37m\u001b[0m \u001b[1m45s\u001b[0m 445ms/step - accuracy: 0.9292 - loss: 0.1530 - val_accuracy: 0.8904 - val_loss: 0.3069\n",
      "Epoch 13/25\n",
      "\u001b[1m102/102\u001b[0m \u001b[32m━━━━━━━━━━━━━━━━━━━━\u001b[0m\u001b[37m\u001b[0m \u001b[1m45s\u001b[0m 443ms/step - accuracy: 0.9194 - loss: 0.1612 - val_accuracy: 0.8970 - val_loss: 0.2402\n",
      "Epoch 14/25\n",
      "\u001b[1m102/102\u001b[0m \u001b[32m━━━━━━━━━━━━━━━━━━━━\u001b[0m\u001b[37m\u001b[0m \u001b[1m45s\u001b[0m 442ms/step - accuracy: 0.9365 - loss: 0.1457 - val_accuracy: 0.8571 - val_loss: 0.3100\n",
      "Epoch 15/25\n",
      "\u001b[1m102/102\u001b[0m \u001b[32m━━━━━━━━━━━━━━━━━━━━\u001b[0m\u001b[37m\u001b[0m \u001b[1m45s\u001b[0m 444ms/step - accuracy: 0.9491 - loss: 0.1202 - val_accuracy: 0.9203 - val_loss: 0.2127\n",
      "Epoch 16/25\n",
      "\u001b[1m102/102\u001b[0m \u001b[32m━━━━━━━━━━━━━━━━━━━━\u001b[0m\u001b[37m\u001b[0m \u001b[1m45s\u001b[0m 443ms/step - accuracy: 0.9543 - loss: 0.1125 - val_accuracy: 0.9169 - val_loss: 0.2091\n",
      "Epoch 17/25\n",
      "\u001b[1m102/102\u001b[0m \u001b[32m━━━━━━━━━━━━━━━━━━━━\u001b[0m\u001b[37m\u001b[0m \u001b[1m45s\u001b[0m 444ms/step - accuracy: 0.9642 - loss: 0.1004 - val_accuracy: 0.9402 - val_loss: 0.1581\n",
      "Epoch 18/25\n",
      "\u001b[1m102/102\u001b[0m \u001b[32m━━━━━━━━━━━━━━━━━━━━\u001b[0m\u001b[37m\u001b[0m \u001b[1m48s\u001b[0m 467ms/step - accuracy: 0.9730 - loss: 0.0754 - val_accuracy: 0.9302 - val_loss: 0.1879\n",
      "Epoch 19/25\n",
      "\u001b[1m102/102\u001b[0m \u001b[32m━━━━━━━━━━━━━━━━━━━━\u001b[0m\u001b[37m\u001b[0m \u001b[1m46s\u001b[0m 450ms/step - accuracy: 0.9678 - loss: 0.0798 - val_accuracy: 0.9801 - val_loss: 0.1139\n",
      "Epoch 20/25\n",
      "\u001b[1m102/102\u001b[0m \u001b[32m━━━━━━━━━━━━━━━━━━━━\u001b[0m\u001b[37m\u001b[0m \u001b[1m44s\u001b[0m 435ms/step - accuracy: 0.9855 - loss: 0.0534 - val_accuracy: 0.9934 - val_loss: 0.0704\n",
      "Epoch 21/25\n",
      "\u001b[1m102/102\u001b[0m \u001b[32m━━━━━━━━━━━━━━━━━━━━\u001b[0m\u001b[37m\u001b[0m \u001b[1m45s\u001b[0m 437ms/step - accuracy: 0.9702 - loss: 0.0761 - val_accuracy: 0.9834 - val_loss: 0.0714\n",
      "Epoch 22/25\n",
      "\u001b[1m102/102\u001b[0m \u001b[32m━━━━━━━━━━━━━━━━━━━━\u001b[0m\u001b[37m\u001b[0m \u001b[1m45s\u001b[0m 437ms/step - accuracy: 0.9874 - loss: 0.0528 - val_accuracy: 0.9601 - val_loss: 0.1013\n",
      "Epoch 23/25\n",
      "\u001b[1m102/102\u001b[0m \u001b[32m━━━━━━━━━━━━━━━━━━━━\u001b[0m\u001b[37m\u001b[0m \u001b[1m44s\u001b[0m 435ms/step - accuracy: 0.9875 - loss: 0.0428 - val_accuracy: 0.9734 - val_loss: 0.0850\n",
      "Epoch 24/25\n",
      "\u001b[1m102/102\u001b[0m \u001b[32m━━━━━━━━━━━━━━━━━━━━\u001b[0m\u001b[37m\u001b[0m \u001b[1m45s\u001b[0m 439ms/step - accuracy: 0.9929 - loss: 0.0328 - val_accuracy: 0.9934 - val_loss: 0.0533\n",
      "Epoch 25/25\n",
      "\u001b[1m102/102\u001b[0m \u001b[32m━━━━━━━━━━━━━━━━━━━━\u001b[0m\u001b[37m\u001b[0m \u001b[1m44s\u001b[0m 434ms/step - accuracy: 0.9821 - loss: 0.0439 - val_accuracy: 0.9801 - val_loss: 0.0662\n",
      "\u001b[1m10/10\u001b[0m \u001b[32m━━━━━━━━━━━━━━━━━━━━\u001b[0m\u001b[37m\u001b[0m \u001b[1m2s\u001b[0m 186ms/step - accuracy: 0.9847 - loss: 0.0604\n"
     ]
    },
    {
     "name": "stderr",
     "output_type": "stream",
     "text": [
      "WARNING:absl:You are saving your model as an HDF5 file via `model.save()` or `keras.saving.save_model(model)`. This file format is considered legacy. We recommend using instead the native Keras format, e.g. `model.save('my_model.keras')` or `keras.saving.save_model(model, 'my_model.keras')`. \n"
     ]
    },
    {
     "name": "stdout",
     "output_type": "stream",
     "text": [
      "Test loss with Adam: 6.6228\n",
      "Test accuracy with Adam: 98.0066\n",
      "Highest Validation Accuracy with Adam: 99.34%\n",
      "Model saved as model_Adam.h5\n"
     ]
    }
   ],
   "source": [
    "def train_model(optimizer, optimizer_name):\n",
    "    model = create_model()\n",
    "    model.compile(optimizer=optimizer, loss='sparse_categorical_crossentropy', metrics=['accuracy'])\n",
    "\n",
    "    history = model.fit(\n",
    "        train_data,\n",
    "        epochs=25,\n",
    "        validation_data=test_data,\n",
    "        class_weight=class_weights\n",
    "    )\n",
    "\n",
    "\n",
    "    loss, accuracy = model.evaluate(test_data)\n",
    "    print(f'Test loss with {optimizer_name}: {loss*100:.4f}')\n",
    "    print(f'Test accuracy with {optimizer_name}: {accuracy*100:.4f}')\n",
    "\n",
    "    highest_val_accuracy = max(history.history['val_accuracy'])\n",
    "    print(f'Highest Validation Accuracy with {optimizer_name}: {highest_val_accuracy * 100:.2f}%')\n",
    "\n",
    "\n",
    "    model.save(f'model_{optimizer_name}.h5')\n",
    "    print(f\"Model saved as model_{optimizer_name}.h5\")\n",
    "\n",
    "    return history\n",
    "\n",
    "optimizers = {\n",
    "    # 'SGD': SGD(learning_rate=0.001),\n",
    "    # 'Adagrad': Adagrad(learning_rate=0.01),\n",
    "    # 'Adadelta': Adadelta(learning_rate=0.01),\n",
    "    # 'RMSProp': RMSprop(learning_rate=0.001),\n",
    "    'Adam': Adam(learning_rate=0.0001)\n",
    "}\n",
    "\n",
    "histories = {}\n",
    "for opt_name, opt in optimizers.items():\n",
    "    print(f\"Training with {opt_name} optimizer\")\n",
    "    histories[opt_name] = train_model(opt, opt_name)"
   ]
  },
  {
   "cell_type": "code",
   "execution_count": 18,
   "id": "2169b961-2eaf-46eb-a98d-9afe6e5dd1e5",
   "metadata": {},
   "outputs": [
    {
     "name": "stderr",
     "output_type": "stream",
     "text": [
      "WARNING:absl:Compiled the loaded model, but the compiled metrics have yet to be built. `model.compile_metrics` will be empty until you train or evaluate the model.\n"
     ]
    },
    {
     "name": "stdout",
     "output_type": "stream",
     "text": [
      "[[[[1.         1.         1.        ]\n",
      "   [1.         1.         1.        ]\n",
      "   [1.         1.         1.        ]\n",
      "   ...\n",
      "   [1.         0.94509804 0.9254902 ]\n",
      "   [0.9882353  0.99607843 1.        ]\n",
      "   [1.         1.         1.        ]]\n",
      "\n",
      "  [[1.         1.         1.        ]\n",
      "   [1.         1.         1.        ]\n",
      "   [1.         1.         1.        ]\n",
      "   ...\n",
      "   [0.19607843 0.17254902 0.        ]\n",
      "   [1.         0.99215686 1.        ]\n",
      "   [1.         1.         1.        ]]\n",
      "\n",
      "  [[1.         1.         1.        ]\n",
      "   [1.         1.         1.        ]\n",
      "   [1.         1.         1.        ]\n",
      "   ...\n",
      "   [0.2        0.14901961 0.        ]\n",
      "   [0.99607843 0.99215686 1.        ]\n",
      "   [1.         1.         1.        ]]\n",
      "\n",
      "  ...\n",
      "\n",
      "  [[1.         1.         1.        ]\n",
      "   [1.         1.         1.        ]\n",
      "   [1.         1.         1.        ]\n",
      "   ...\n",
      "   [0.9843137  0.9843137  0.9843137 ]\n",
      "   [0.99215686 0.99215686 0.99215686]\n",
      "   [0.48235294 0.48235294 0.48235294]]\n",
      "\n",
      "  [[1.         1.         1.        ]\n",
      "   [1.         1.         1.        ]\n",
      "   [1.         1.         1.        ]\n",
      "   ...\n",
      "   [1.         1.         1.        ]\n",
      "   [0.9490196  0.9490196  0.9490196 ]\n",
      "   [0.95686275 0.95686275 0.95686275]]\n",
      "\n",
      "  [[1.         1.         1.        ]\n",
      "   [1.         1.         1.        ]\n",
      "   [1.         1.         1.        ]\n",
      "   ...\n",
      "   [1.         1.         1.        ]\n",
      "   [1.         1.         1.        ]\n",
      "   [1.         1.         1.        ]]]]\n",
      "\u001b[1m1/1\u001b[0m \u001b[32m━━━━━━━━━━━━━━━━━━━━\u001b[0m\u001b[37m\u001b[0m \u001b[1m0s\u001b[0m 178ms/step\n",
      "[[0.88173413 0.11826584]]\n",
      "{0: 'healthy', 1: 'unhealthy'}\n",
      "0\n",
      "Predicted class: healthy\n"
     ]
    }
   ],
   "source": [
    "from tensorflow.keras.models import load_model\n",
    "from tensorflow.keras.preprocessing import image\n",
    "import numpy as np\n",
    "\n",
    "def preprocess_image(img_path):\n",
    "    img = image.load_img(img_path, target_size=(150, 150))\n",
    "    img_array = image.img_to_array(img)\n",
    "    img_array = np.expand_dims(img_array, axis=0)\n",
    "    img_array /= 255.0  # Rescale the image\n",
    "    return img_array\n",
    "\n",
    "# Example image path (update with your actual image path)\n",
    "img_path = 'Gammatonegram_images/Gammatone of heart sounds/Gammatone of heart sounds/val/healthy/a0007.jpg'\n",
    "# Preprocess the image\n",
    "img_array = preprocess_image(img_path)\n",
    "\n",
    "print(img_array)\n",
    "\n",
    "# Load a saved model\n",
    "model_path = 'model_Adam.h5'  # Replace with the correct model file name if different\n",
    "model = load_model(model_path)\n",
    "\n",
    "# Make predictions using the loaded model\n",
    "predictions = model.predict(img_array)\n",
    "print(predictions)\n",
    "predicted_class = np.argmax(predictions, axis=1)\n",
    "\n",
    "# Assuming `train_data` has `class_indices` for label decoding\n",
    "class_labels = {v: k for k, v in train_data.class_indices.items()}  # Get class labels from the training data\n",
    "print(class_labels)\n",
    "print(predicted_class[0])\n",
    "predicted_label = class_labels[predicted_class[0]]\n",
    "\n",
    "print(f'Predicted class: {predicted_label}')\n"
   ]
  },
  {
   "cell_type": "code",
   "execution_count": 20,
   "id": "5cee4d4d-67aa-4f4d-b1f8-08dc165e1be3",
   "metadata": {},
   "outputs": [
    {
     "name": "stderr",
     "output_type": "stream",
     "text": [
      "WARNING:absl:Compiled the loaded model, but the compiled metrics have yet to be built. `model.compile_metrics` will be empty until you train or evaluate the model.\n"
     ]
    },
    {
     "name": "stdout",
     "output_type": "stream",
     "text": [
      "\u001b[1m1/1\u001b[0m \u001b[32m━━━━━━━━━━━━━━━━━━━━\u001b[0m\u001b[37m\u001b[0m \u001b[1m0s\u001b[0m 202ms/step\n",
      "\u001b[1m1/1\u001b[0m \u001b[32m━━━━━━━━━━━━━━━━━━━━\u001b[0m\u001b[37m\u001b[0m \u001b[1m0s\u001b[0m 72ms/step\n",
      "\u001b[1m1/1\u001b[0m \u001b[32m━━━━━━━━━━━━━━━━━━━━\u001b[0m\u001b[37m\u001b[0m \u001b[1m0s\u001b[0m 102ms/step\n",
      "\u001b[1m1/1\u001b[0m \u001b[32m━━━━━━━━━━━━━━━━━━━━\u001b[0m\u001b[37m\u001b[0m \u001b[1m0s\u001b[0m 83ms/step\n",
      "\u001b[1m1/1\u001b[0m \u001b[32m━━━━━━━━━━━━━━━━━━━━\u001b[0m\u001b[37m\u001b[0m \u001b[1m0s\u001b[0m 92ms/step\n",
      "\u001b[1m1/1\u001b[0m \u001b[32m━━━━━━━━━━━━━━━━━━━━\u001b[0m\u001b[37m\u001b[0m \u001b[1m0s\u001b[0m 82ms/step\n",
      "\u001b[1m1/1\u001b[0m \u001b[32m━━━━━━━━━━━━━━━━━━━━\u001b[0m\u001b[37m\u001b[0m \u001b[1m0s\u001b[0m 82ms/step\n",
      "\u001b[1m1/1\u001b[0m \u001b[32m━━━━━━━━━━━━━━━━━━━━\u001b[0m\u001b[37m\u001b[0m \u001b[1m0s\u001b[0m 81ms/step\n",
      "\u001b[1m1/1\u001b[0m \u001b[32m━━━━━━━━━━━━━━━━━━━━\u001b[0m\u001b[37m\u001b[0m \u001b[1m0s\u001b[0m 92ms/step\n",
      "\u001b[1m1/1\u001b[0m \u001b[32m━━━━━━━━━━━━━━━━━━━━\u001b[0m\u001b[37m\u001b[0m \u001b[1m0s\u001b[0m 155ms/step\n",
      "Confusion Matrix:\n",
      "[[144   6]\n",
      " [  0 151]]\n"
     ]
    },
    {
     "data": {
      "image/png": "[encoded data removed]",
      "text/plain": [
       "<Figure size 600x500 with 2 Axes>"
      ]
     },
     "metadata": {},
     "output_type": "display_data"
    },
    {
     "name": "stdout",
     "output_type": "stream",
     "text": [
      "Classification Report:\n",
      "              precision    recall  f1-score   support\n",
      "\n",
      "     Healthy       1.00      0.96      0.98       150\n",
      "   Unhealthy       0.96      1.00      0.98       151\n",
      "\n",
      "    accuracy                           0.98       301\n",
      "   macro avg       0.98      0.98      0.98       301\n",
      "weighted avg       0.98      0.98      0.98       301\n",
      "\n"
     ]
    }
   ],
   "source": [
    "import numpy as np\n",
    "import tensorflow as tf\n",
    "from sklearn.metrics import confusion_matrix, classification_report\n",
    "import seaborn as sns\n",
    "import matplotlib.pyplot as plt\n",
    "\n",
    "# Load trained model\n",
    "model_path = 'model_Adam_main.h5'  # Update with the correct model path\n",
    "model = tf.keras.models.load_model(model_path)\n",
    "\n",
    "# Get true labels and predictions\n",
    "y_true = []\n",
    "y_pred = []\n",
    "\n",
    "for images, labels in test_data:\n",
    "    preds = model.predict(images)\n",
    "    y_true.extend(labels)\n",
    "    y_pred.extend(np.argmax(preds, axis=1))\n",
    "    \n",
    "    if len(y_true) >= test_data.samples:  # Ensure we only use test set size\n",
    "        break\n",
    "\n",
    "# Convert to numpy arrays\n",
    "y_true = np.array(y_true)\n",
    "y_pred = np.array(y_pred)\n",
    "\n",
    "# Compute confusion matrix\n",
    "cm = confusion_matrix(y_true, y_pred)\n",
    "print(\"Confusion Matrix:\")\n",
    "print(cm)\n",
    "\n",
    "# Plot confusion matrix\n",
    "plt.figure(figsize=(6, 5))\n",
    "sns.heatmap(cm, annot=True, fmt='d', cmap='Blues', xticklabels=['Healthy', 'Unhealthy'], yticklabels=['Healthy', 'Unhealthy'])\n",
    "plt.xlabel('Predicted')\n",
    "plt.ylabel('Actual')\n",
    "plt.title('Confusion Matrix')\n",
    "plt.show()\n",
    "\n",
    "# Compute classification report\n",
    "report = classification_report(y_true, y_pred, target_names=['Healthy', 'Unhealthy'])\n",
    "print(\"Classification Report:\")\n",
    "print(report)\n"
   ]
  },
  {
   "cell_type": "code",
   "execution_count": 13,
   "id": "8b18c02a-24ec-4a1a-a9fb-843caa3118c8",
   "metadata": {},
   "outputs": [
    {
     "data": {
      "text/html": [
       "<div>\n",
       "<style scoped>\n",
       "    .dataframe tbody tr th:only-of-type {\n",
       "        vertical-align: middle;\n",
       "    }\n",
       "\n",
       "    .dataframe tbody tr th {\n",
       "        vertical-align: top;\n",
       "    }\n",
       "\n",
       "    .dataframe thead th {\n",
       "        text-align: right;\n",
       "    }\n",
       "</style>\n",
       "<table border=\"1\" class=\"dataframe\">\n",
       "  <thead>\n",
       "    <tr style=\"text-align: right;\">\n",
       "      <th></th>\n",
       "      <th>Optimizers</th>\n",
       "      <th>Base_Paper_Accuracy</th>\n",
       "      <th>Obtained_Accuracy</th>\n",
       "    </tr>\n",
       "  </thead>\n",
       "  <tbody>\n",
       "    <tr>\n",
       "      <th>0</th>\n",
       "      <td>SGD Optimizer</td>\n",
       "      <td>89.36%</td>\n",
       "      <td>89.70%</td>\n",
       "    </tr>\n",
       "    <tr>\n",
       "      <th>1</th>\n",
       "      <td>Adagrad Optimizer</td>\n",
       "      <td>93.68%</td>\n",
       "      <td>96.01%</td>\n",
       "    </tr>\n",
       "    <tr>\n",
       "      <th>2</th>\n",
       "      <td>Adadelta Optimizer</td>\n",
       "      <td>87.37%</td>\n",
       "      <td>96.68%</td>\n",
       "    </tr>\n",
       "    <tr>\n",
       "      <th>3</th>\n",
       "      <td>RMSProp Optimizer</td>\n",
       "      <td>80.73%</td>\n",
       "      <td>82.39%</td>\n",
       "    </tr>\n",
       "    <tr>\n",
       "      <th>4</th>\n",
       "      <td>Adam Optimizer</td>\n",
       "      <td>99.29%</td>\n",
       "      <td>99.34%</td>\n",
       "    </tr>\n",
       "  </tbody>\n",
       "</table>\n",
       "</div>"
      ],
      "text/plain": [
       "           Optimizers Base_Paper_Accuracy Obtained_Accuracy\n",
       "0       SGD Optimizer              89.36%            89.70%\n",
       "1   Adagrad Optimizer              93.68%            96.01%\n",
       "2  Adadelta Optimizer              87.37%            96.68%\n",
       "3   RMSProp Optimizer              80.73%            82.39%\n",
       "4      Adam Optimizer              99.29%            99.34%"
      ]
     },
     "execution_count": 13,
     "metadata": {},
     "output_type": "execute_result"
    }
   ],
   "source": [
    "import pandas as pd\n",
    "import numpy as np\n",
    "\n",
    "optimizers=np.array(['SGD Optimizer','Adagrad Optimizer','Adadelta Optimizer','RMSProp Optimizer','Adam Optimizer'])\n",
    "test1= np.array(['89.36%','93.68%','87.37%','80.73%','99.29%'])\n",
    "testt2=np.array(['89.70%','96.01%','96.68%','82.39%','99.34%'])\n",
    "\n",
    "df=pd.DataFrame({'Optimizers':optimizers,'Base_Paper_Accuracy':test1,'Obtained_Accuracy':testt2})\n",
    "df"
   ]
  },
  {
   "cell_type": "code",
   "execution_count": 15,
   "id": "d0cefc82-68af-48f4-98f8-413f1a549581",
   "metadata": {},
   "outputs": [],
   "source": [
    "from tensorflow.keras.applications import VGG16\n",
    "from tensorflow.keras.layers import Flatten, Dense, BatchNormalization, Activation\n",
    "from tensorflow.keras.models import Sequential\n",
    "from tensorflow.keras import Model\n",
    "\n",
    "def create_model():\n",
    "    # Load the VGG16 model, excluding the top layers (fully connected layers)\n",
    "    vgg16 = VGG16(weights='imagenet', include_top=False, input_shape=(150, 150, 3))\n",
    "\n",
    "    # Freeze the layers in VGG16 so their weights don't get updated during training\n",
    "    for layer in vgg16.layers:\n",
    "        layer.trainable = False\n",
    "\n",
    "    # Add custom layers on top of VGG16\n",
    "    model = Sequential()\n",
    "    model.add(vgg16)\n",
    "    \n",
    "    # Add custom layers\n",
    "    model.add(Flatten())\n",
    "    model.add(Dense(128))\n",
    "    model.add(Activation('relu'))\n",
    "    model.add(Dense(64))\n",
    "    model.add(Activation('relu'))\n",
    "    model.add(Dense(2, activation='softmax'))  # Adjust the output layer as per your classification task\n",
    "\n",
    "    return model\n"
   ]
  },
  {
   "cell_type": "code",
   "execution_count": 17,
   "id": "a2d509a8-55ad-43dc-9655-4c53608cbff0",
   "metadata": {},
   "outputs": [
    {
     "name": "stdout",
     "output_type": "stream",
     "text": [
      "Training with Adam optimizer\n",
      "Downloading data from https://storage.googleapis.com/tensorflow/keras-applications/vgg16/vgg16_weights_tf_dim_ordering_tf_kernels_notop.h5\n",
      "\u001b[1m58889256/58889256\u001b[0m \u001b[32m━━━━━━━━━━━━━━━━━━━━\u001b[0m\u001b[37m\u001b[0m \u001b[1m13s\u001b[0m 0us/step\n"
     ]
    },
    {
     "name": "stderr",
     "output_type": "stream",
     "text": [
      "C:\\Users\\DELL\\anaconda3\\Lib\\site-packages\\keras\\src\\trainers\\data_adapters\\py_dataset_adapter.py:121: UserWarning: Your `PyDataset` class should call `super().__init__(**kwargs)` in its constructor. `**kwargs` can include `workers`, `use_multiprocessing`, `max_queue_size`. Do not pass these arguments to `fit()`, as they will be ignored.\n",
      "  self._warn_if_super_not_called()\n"
     ]
    },
    {
     "name": "stdout",
     "output_type": "stream",
     "text": [
      "Epoch 1/25\n",
      "\u001b[1m102/102\u001b[0m \u001b[32m━━━━━━━━━━━━━━━━━━━━\u001b[0m\u001b[37m\u001b[0m \u001b[1m310s\u001b[0m 3s/step - accuracy: 0.5795 - loss: 0.6555 - val_accuracy: 0.6744 - val_loss: 0.5600\n",
      "Epoch 2/25\n",
      "\u001b[1m102/102\u001b[0m \u001b[32m━━━━━━━━━━━━━━━━━━━━\u001b[0m\u001b[37m\u001b[0m \u001b[1m309s\u001b[0m 3s/step - accuracy: 0.7696 - loss: 0.4933 - val_accuracy: 0.6545 - val_loss: 0.5956\n",
      "Epoch 3/25\n",
      "\u001b[1m102/102\u001b[0m \u001b[32m━━━━━━━━━━━━━━━━━━━━\u001b[0m\u001b[37m\u001b[0m \u001b[1m310s\u001b[0m 3s/step - accuracy: 0.7859 - loss: 0.4395 - val_accuracy: 0.7375 - val_loss: 0.5202\n",
      "Epoch 4/25\n",
      "\u001b[1m102/102\u001b[0m \u001b[32m━━━━━━━━━━━━━━━━━━━━\u001b[0m\u001b[37m\u001b[0m \u001b[1m309s\u001b[0m 3s/step - accuracy: 0.8059 - loss: 0.3976 - val_accuracy: 0.6877 - val_loss: 0.5346\n",
      "Epoch 5/25\n",
      "\u001b[1m102/102\u001b[0m \u001b[32m━━━━━━━━━━━━━━━━━━━━\u001b[0m\u001b[37m\u001b[0m \u001b[1m308s\u001b[0m 3s/step - accuracy: 0.8181 - loss: 0.3762 - val_accuracy: 0.7542 - val_loss: 0.4975\n",
      "Epoch 6/25\n",
      "\u001b[1m102/102\u001b[0m \u001b[32m━━━━━━━━━━━━━━━━━━━━\u001b[0m\u001b[37m\u001b[0m \u001b[1m306s\u001b[0m 3s/step - accuracy: 0.8255 - loss: 0.3561 - val_accuracy: 0.7309 - val_loss: 0.5096\n",
      "Epoch 7/25\n",
      "\u001b[1m102/102\u001b[0m \u001b[32m━━━━━━━━━━━━━━━━━━━━\u001b[0m\u001b[37m\u001b[0m \u001b[1m308s\u001b[0m 3s/step - accuracy: 0.8260 - loss: 0.3471 - val_accuracy: 0.6512 - val_loss: 0.7154\n",
      "Epoch 8/25\n",
      "\u001b[1m102/102\u001b[0m \u001b[32m━━━━━━━━━━━━━━━━━━━━\u001b[0m\u001b[37m\u001b[0m \u001b[1m314s\u001b[0m 3s/step - accuracy: 0.8060 - loss: 0.3631 - val_accuracy: 0.7442 - val_loss: 0.4937\n",
      "Epoch 9/25\n",
      "\u001b[1m102/102\u001b[0m \u001b[32m━━━━━━━━━━━━━━━━━━━━\u001b[0m\u001b[37m\u001b[0m \u001b[1m315s\u001b[0m 3s/step - accuracy: 0.8487 - loss: 0.3249 - val_accuracy: 0.7243 - val_loss: 0.5012\n",
      "Epoch 10/25\n",
      "\u001b[1m102/102\u001b[0m \u001b[32m━━━━━━━━━━━━━━━━━━━━\u001b[0m\u001b[37m\u001b[0m \u001b[1m316s\u001b[0m 3s/step - accuracy: 0.8322 - loss: 0.3212 - val_accuracy: 0.7309 - val_loss: 0.5146\n",
      "Epoch 11/25\n",
      "\u001b[1m102/102\u001b[0m \u001b[32m━━━━━━━━━━━━━━━━━━━━\u001b[0m\u001b[37m\u001b[0m \u001b[1m3098s\u001b[0m 31s/step - accuracy: 0.8425 - loss: 0.3098 - val_accuracy: 0.7342 - val_loss: 0.5247\n",
      "Epoch 12/25\n",
      "\u001b[1m102/102\u001b[0m \u001b[32m━━━━━━━━━━━━━━━━━━━━\u001b[0m\u001b[37m\u001b[0m \u001b[1m594s\u001b[0m 6s/step - accuracy: 0.8647 - loss: 0.2967 - val_accuracy: 0.7409 - val_loss: 0.4701\n",
      "Epoch 13/25\n",
      "\u001b[1m102/102\u001b[0m \u001b[32m━━━━━━━━━━━━━━━━━━━━\u001b[0m\u001b[37m\u001b[0m \u001b[1m316s\u001b[0m 3s/step - accuracy: 0.8463 - loss: 0.3031 - val_accuracy: 0.7608 - val_loss: 0.4661\n",
      "Epoch 14/25\n",
      "\u001b[1m102/102\u001b[0m \u001b[32m━━━━━━━━━━━━━━━━━━━━\u001b[0m\u001b[37m\u001b[0m \u001b[1m270s\u001b[0m 3s/step - accuracy: 0.8680 - loss: 0.2947 - val_accuracy: 0.6645 - val_loss: 0.7154\n",
      "Epoch 15/25\n",
      "\u001b[1m102/102\u001b[0m \u001b[32m━━━━━━━━━━━━━━━━━━━━\u001b[0m\u001b[37m\u001b[0m \u001b[1m258s\u001b[0m 3s/step - accuracy: 0.8385 - loss: 0.3175 - val_accuracy: 0.6877 - val_loss: 0.6008\n",
      "Epoch 16/25\n",
      "\u001b[1m102/102\u001b[0m \u001b[32m━━━━━━━━━━━━━━━━━━━━\u001b[0m\u001b[37m\u001b[0m \u001b[1m236s\u001b[0m 2s/step - accuracy: 0.8584 - loss: 0.2870 - val_accuracy: 0.7542 - val_loss: 0.4709\n",
      "Epoch 17/25\n",
      "\u001b[1m102/102\u001b[0m \u001b[32m━━━━━━━━━━━━━━━━━━━━\u001b[0m\u001b[37m\u001b[0m \u001b[1m226s\u001b[0m 2s/step - accuracy: 0.8476 - loss: 0.3097 - val_accuracy: 0.7475 - val_loss: 0.4746\n",
      "Epoch 18/25\n",
      "\u001b[1m102/102\u001b[0m \u001b[32m━━━━━━━━━━━━━━━━━━━━\u001b[0m\u001b[37m\u001b[0m \u001b[1m221s\u001b[0m 2s/step - accuracy: 0.8531 - loss: 0.2894 - val_accuracy: 0.7375 - val_loss: 0.4777\n",
      "Epoch 19/25\n",
      "\u001b[1m102/102\u001b[0m \u001b[32m━━━━━━━━━━━━━━━━━━━━\u001b[0m\u001b[37m\u001b[0m \u001b[1m221s\u001b[0m 2s/step - accuracy: 0.8531 - loss: 0.3062 - val_accuracy: 0.7475 - val_loss: 0.4644\n",
      "Epoch 20/25\n",
      "\u001b[1m102/102\u001b[0m \u001b[32m━━━━━━━━━━━━━━━━━━━━\u001b[0m\u001b[37m\u001b[0m \u001b[1m208s\u001b[0m 2s/step - accuracy: 0.8711 - loss: 0.2705 - val_accuracy: 0.6977 - val_loss: 0.5654\n",
      "Epoch 21/25\n",
      "\u001b[1m102/102\u001b[0m \u001b[32m━━━━━━━━━━━━━━━━━━━━\u001b[0m\u001b[37m\u001b[0m \u001b[1m212s\u001b[0m 2s/step - accuracy: 0.8765 - loss: 0.2682 - val_accuracy: 0.7674 - val_loss: 0.4343\n",
      "Epoch 22/25\n",
      "\u001b[1m102/102\u001b[0m \u001b[32m━━━━━━━━━━━━━━━━━━━━\u001b[0m\u001b[37m\u001b[0m \u001b[1m216s\u001b[0m 2s/step - accuracy: 0.8797 - loss: 0.2572 - val_accuracy: 0.7176 - val_loss: 0.5411\n",
      "Epoch 23/25\n",
      "\u001b[1m102/102\u001b[0m \u001b[32m━━━━━━━━━━━━━━━━━━━━\u001b[0m\u001b[37m\u001b[0m \u001b[1m216s\u001b[0m 2s/step - accuracy: 0.8643 - loss: 0.2579 - val_accuracy: 0.7774 - val_loss: 0.4192\n",
      "Epoch 24/25\n",
      "\u001b[1m102/102\u001b[0m \u001b[32m━━━━━━━━━━━━━━━━━━━━\u001b[0m\u001b[37m\u001b[0m \u001b[1m219s\u001b[0m 2s/step - accuracy: 0.8673 - loss: 0.2529 - val_accuracy: 0.7442 - val_loss: 0.4739\n",
      "Epoch 25/25\n",
      "\u001b[1m102/102\u001b[0m \u001b[32m━━━━━━━━━━━━━━━━━━━━\u001b[0m\u001b[37m\u001b[0m \u001b[1m220s\u001b[0m 2s/step - accuracy: 0.8704 - loss: 0.2627 - val_accuracy: 0.7807 - val_loss: 0.4229\n",
      "\u001b[1m10/10\u001b[0m \u001b[32m━━━━━━━━━━━━━━━━━━━━\u001b[0m\u001b[37m\u001b[0m \u001b[1m18s\u001b[0m 2s/step - accuracy: 0.7718 - loss: 0.4139\n"
     ]
    },
    {
     "name": "stderr",
     "output_type": "stream",
     "text": [
      "WARNING:absl:You are saving your model as an HDF5 file via `model.save()` or `keras.saving.save_model(model)`. This file format is considered legacy. We recommend using instead the native Keras format, e.g. `model.save('my_model.keras')` or `keras.saving.save_model(model, 'my_model.keras')`. \n"
     ]
    },
    {
     "name": "stdout",
     "output_type": "stream",
     "text": [
      "Test loss with Adam: 42.2871\n",
      "Test accuracy with Adam: 78.0731\n",
      "Highest Validation Accuracy with Adam: 78.07%\n",
      "Model saved as model_Adam.h5\n"
     ]
    }
   ],
   "source": [
    "def train_model(optimizer, optimizer_name):\n",
    "    model = create_model()\n",
    "    model.compile(optimizer=optimizer, loss='sparse_categorical_crossentropy', metrics=['accuracy'])\n",
    "\n",
    "    history = model.fit(\n",
    "        train_data,\n",
    "        epochs=25,\n",
    "        validation_data=test_data,\n",
    "        class_weight=class_weights\n",
    "    )\n",
    "\n",
    "\n",
    "    loss, accuracy = model.evaluate(test_data)\n",
    "    print(f'Test loss with {optimizer_name}: {loss*100:.4f}')\n",
    "    print(f'Test accuracy with {optimizer_name}: {accuracy*100:.4f}')\n",
    "\n",
    "    highest_val_accuracy = max(history.history['val_accuracy'])\n",
    "    print(f'Highest Validation Accuracy with {optimizer_name}: {highest_val_accuracy * 100:.2f}%')\n",
    "\n",
    "\n",
    "    model.save(f'model_{optimizer_name}.h5')\n",
    "    print(f\"Model saved as model_{optimizer_name}.h5\")\n",
    "\n",
    "    return history\n",
    "\n",
    "optimizers = {\n",
    "    # 'SGD': SGD(learning_rate=0.001),\n",
    "    # 'Adagrad': Adagrad(learning_rate=0.01),\n",
    "    # 'Adadelta': Adadelta(learning_rate=0.01),\n",
    "    # 'RMSProp': RMSprop(learning_rate=0.001),\n",
    "    'Adam': Adam(learning_rate=0.0001)\n",
    "}\n",
    "\n",
    "histories = {}\n",
    "for opt_name, opt in optimizers.items():\n",
    "    print(f\"Training with {opt_name} optimizer\")\n",
    "    histories[opt_name] = train_model(opt, opt_name)"
   ]
  },
  {
   "cell_type": "code",
   "execution_count": null,
   "id": "5ccff80c-a891-4f70-8d3f-a4c4daaf3093",
   "metadata": {},
   "outputs": [],
   "source": []
  }
 ],
 "metadata": {
  "kernelspec": {
   "display_name": "Python [conda env:base] *",
   "language": "python",
   "name": "conda-base-py"
  },
  "language_info": {
   "codemirror_mode": {
    "name": "ipython",
    "version": 3
   },
   "file_extension": ".py",
   "mimetype": "text/x-python",
   "name": "python",
   "nbconvert_exporter": "python",
   "pygments_lexer": "ipython3",
   "version": "3.12.7"
  }
 },
 "nbformat": 4,
 "nbformat_minor": 5
}
